{
 "cells": [
  {
   "cell_type": "code",
   "execution_count": 1,
   "id": "dca3a2f3-5439-4708-91a4-38b43a8c2048",
   "metadata": {},
   "outputs": [
    {
     "data": {
      "text/plain": [
       "' Which keyword is used to create a function? Create a function to return a list of odd numbers in the range of 1 to 25.'"
      ]
     },
     "execution_count": 1,
     "metadata": {},
     "output_type": "execute_result"
    }
   ],
   "source": [
    "\"\"\" Which keyword is used to create a function? Create a function to return a list of odd numbers in the range of 1 to 25.\"\"\"\n"
   ]
  },
  {
   "cell_type": "code",
   "execution_count": 2,
   "id": "7938fd45-d7a6-4e5b-8b46-1bd55740b883",
   "metadata": {},
   "outputs": [
    {
     "name": "stdout",
     "output_type": "stream",
     "text": [
      "[1, 3, 5, 7, 9, 11, 13, 15, 17, 19, 21, 23, 25]\n"
     ]
    }
   ],
   "source": [
    "def get_odd_numbers():\n",
    "    odd_numbers = []\n",
    "    for num in range(1, 26):\n",
    "        if num % 2 != 0:\n",
    "            odd_numbers.append(num)\n",
    "    return odd_numbers\n",
    "\n",
    "result = get_odd_numbers()\n",
    "print(result)\n"
   ]
  },
  {
   "cell_type": "code",
   "execution_count": 4,
   "id": "8c0af770-35b9-467b-974e-082b2bd2962c",
   "metadata": {},
   "outputs": [
    {
     "data": {
      "text/plain": [
       "' Q2. Why *args and **kwargs is used in some functions? Create a function each for *args and **kwargs to demonstrate their use.'"
      ]
     },
     "execution_count": 4,
     "metadata": {},
     "output_type": "execute_result"
    }
   ],
   "source": [
    "\"\"\" Q2. Why *args and **kwargs is used in some functions? Create a function each for *args and **kwargs to demonstrate their use.\"\"\""
   ]
  },
  {
   "cell_type": "code",
   "execution_count": 6,
   "id": "90a2ecd2-92ed-494d-a533-4f0c14daa23b",
   "metadata": {},
   "outputs": [
    {
     "data": {
      "text/plain": [
       "'ans 2- The *args and **kwargs are used in Python functions to accept a variable number of arguments.\\n The *args syntax allows a function to accept any number of positional arguments, which are then accessed as a tuple within the function\\n   The **kwargs syntax allows a function to accept any number of keyword arguments, which are then accessed as a dictionary within the function.'"
      ]
     },
     "execution_count": 6,
     "metadata": {},
     "output_type": "execute_result"
    }
   ],
   "source": [
    "\"\"\"ans 2- The *args and **kwargs are used in Python functions to accept a variable number of arguments.\n",
    " The *args syntax allows a function to accept any number of positional arguments, which are then accessed as a tuple within the function\n",
    "   The **kwargs syntax allows a function to accept any number of keyword arguments, which are then accessed as a dictionary within the function.\"\"\""
   ]
  },
  {
   "cell_type": "code",
   "execution_count": 7,
   "id": "19335e55-114b-4a5c-b1fc-217a61e506f1",
   "metadata": {},
   "outputs": [
    {
     "data": {
      "text/plain": [
       "' Q3. What is an iterator in python? Name the method used to initialise the iterator object and the method used for iteration. Use these methods to print the first five elements of the given list [2, 4, 6, 8, 10, 12, 14, 16, 18, 20].'"
      ]
     },
     "execution_count": 7,
     "metadata": {},
     "output_type": "execute_result"
    }
   ],
   "source": [
    "\"\"\" Q3. What is an iterator in python? Name the method used to initialise the iterator object and the method used for iteration. Use these methods to print the first five elements of the given list [2, 4, 6, 8, 10, 12, 14, 16, 18, 20].\"\"\""
   ]
  },
  {
   "cell_type": "code",
   "execution_count": 8,
   "id": "444fe275-d12c-4d69-bfdd-1651fb264c1d",
   "metadata": {},
   "outputs": [
    {
     "data": {
      "text/plain": [
       "' An iterator in Python is an object that implements the iterator protocol, which consists of the __iter__() method for initializing the iterator object and the __next__() method for iterating over the elements.\\n\\nTo print the first five elements of the given list [2, 4, 6, 8, 10, 12, 14, 16, 18, 20], we can use the iter() function to initialize the iterator object and the next() function to iterate over the elements.'"
      ]
     },
     "execution_count": 8,
     "metadata": {},
     "output_type": "execute_result"
    }
   ],
   "source": [
    "\"\"\" An iterator in Python is an object that implements the iterator protocol, which consists of the __iter__() method for initializing the iterator object and the __next__() method for iterating over the elements.\n",
    "\n",
    "To print the first five elements of the given list [2, 4, 6, 8, 10, 12, 14, 16, 18, 20], we can use the iter() function to initialize the iterator object and the next() function to iterate over the elements.\"\"\""
   ]
  },
  {
   "cell_type": "code",
   "execution_count": 9,
   "id": "c6f7f83b-298a-4b64-8cc0-9343328cd1fc",
   "metadata": {},
   "outputs": [
    {
     "data": {
      "text/plain": [
       "' Q4. What is a generator function in python? Why yield keyword is used? Give an example of a generator function.'"
      ]
     },
     "execution_count": 9,
     "metadata": {},
     "output_type": "execute_result"
    }
   ],
   "source": [
    "\"\"\" Q4. What is a generator function in python? Why yield keyword is used? Give an example of a generator function.\"\"\""
   ]
  },
  {
   "cell_type": "code",
   "execution_count": 10,
   "id": "4f9b2c9b-b6dc-4c09-893f-381b947613b8",
   "metadata": {},
   "outputs": [
    {
     "data": {
      "text/plain": [
       "\" A generator function in Python is a special type of function that generates a sequence of values using the yield keyword. Unlike regular functions that return a value and then terminate, generator functions can yield multiple values and maintain their state between each yield.\\n\\nHere's an example of a generator function that generates even numbers:\""
      ]
     },
     "execution_count": 10,
     "metadata": {},
     "output_type": "execute_result"
    }
   ],
   "source": [
    "\"\"\" A generator function in Python is a special type of function that generates a sequence of values using the yield keyword. Unlike regular functions that return a value and then terminate, generator functions can yield multiple values and maintain their state between each yield.\n",
    "\n",
    "Here's an example of a generator function that generates even numbers:\"\"\""
   ]
  },
  {
   "cell_type": "code",
   "execution_count": 11,
   "id": "7ce1c067-da6e-4863-8f6b-fb9fb4467262",
   "metadata": {},
   "outputs": [
    {
     "data": {
      "text/plain": [
       "' Q5. Create a generator function for prime numbers less than 1000. Use the next() method to print the first 20 prime numbers'"
      ]
     },
     "execution_count": 11,
     "metadata": {},
     "output_type": "execute_result"
    }
   ],
   "source": [
    "\"\"\" Q5. Create a generator function for prime numbers less than 1000. Use the next() method to print the first 20 prime numbers\"\"\""
   ]
  },
  {
   "cell_type": "code",
   "execution_count": 12,
   "id": "842a19ea-c66e-4e8c-9188-a154b32eb6b4",
   "metadata": {},
   "outputs": [
    {
     "name": "stdout",
     "output_type": "stream",
     "text": [
      "2\n",
      "3\n",
      "5\n",
      "7\n",
      "11\n",
      "13\n",
      "17\n",
      "19\n",
      "23\n",
      "29\n",
      "31\n",
      "37\n",
      "41\n",
      "43\n",
      "47\n",
      "53\n",
      "59\n",
      "61\n",
      "67\n",
      "71\n"
     ]
    }
   ],
   "source": [
    "def generate_primes():\n",
    "    primes = []\n",
    "    num = 2\n",
    "    while True:\n",
    "        if all(num % prime != 0 for prime in primes):\n",
    "            yield num\n",
    "            primes.append(num)\n",
    "        num += 1\n",
    "\n",
    "prime_generator = generate_primes()\n",
    "for _ in range(20):\n",
    "    print(next(prime_generator))\n"
   ]
  },
  {
   "cell_type": "code",
   "execution_count": 13,
   "id": "746366ee-74aa-4211-8645-03500d65e645",
   "metadata": {},
   "outputs": [
    {
     "data": {
      "text/plain": [
       "' Q6. Write a python program to print the first 10 Fibonacci numbers using a while loop'"
      ]
     },
     "execution_count": 13,
     "metadata": {},
     "output_type": "execute_result"
    }
   ],
   "source": [
    "\"\"\" Q6. Write a python program to print the first 10 Fibonacci numbers using a while loop\"\"\""
   ]
  },
  {
   "cell_type": "code",
   "execution_count": 14,
   "id": "f294756c-8c75-4f3e-9d81-164c4c52cd9a",
   "metadata": {},
   "outputs": [
    {
     "name": "stdout",
     "output_type": "stream",
     "text": [
      "0\n",
      "1\n",
      "1\n",
      "2\n",
      "3\n",
      "5\n",
      "8\n",
      "13\n",
      "21\n",
      "34\n"
     ]
    }
   ],
   "source": [
    "a, b = 0, 1\n",
    "count = 0\n",
    "while count < 10:\n",
    "    print(a)\n",
    "    a, b = b, a + b\n",
    "    count += 1\n"
   ]
  },
  {
   "cell_type": "code",
   "execution_count": 15,
   "id": "b3837b34-de6a-4f50-b893-11712db7baec",
   "metadata": {},
   "outputs": [
    {
     "data": {
      "text/plain": [
       "\" Q7. Write a List Comprehension to iterate through the given string: ‘pwskills’.\\n Expected output: ['p', 'w', 's', 'k', 'i', 'l', 'l', 's']\""
      ]
     },
     "execution_count": 15,
     "metadata": {},
     "output_type": "execute_result"
    }
   ],
   "source": [
    "\"\"\" Q7. Write a List Comprehension to iterate through the given string: ‘pwskills’.\n",
    " Expected output: ['p', 'w', 's', 'k', 'i', 'l', 'l', 's']\"\"\""
   ]
  },
  {
   "cell_type": "code",
   "execution_count": 16,
   "id": "c01ab650-a9ef-44d4-b38a-25d5ce9f61d5",
   "metadata": {},
   "outputs": [
    {
     "name": "stdout",
     "output_type": "stream",
     "text": [
      "['p', 'w', 's', 'k', 'i', 'l', 'l', 's']\n"
     ]
    }
   ],
   "source": [
    "string = 'pwskills'\n",
    "result = [char for char in string]\n",
    "print(result)\n"
   ]
  },
  {
   "cell_type": "code",
   "execution_count": 17,
   "id": "0514752b-9b6a-471a-b323-bacdffa0233d",
   "metadata": {},
   "outputs": [
    {
     "data": {
      "text/plain": [
       "' Q8. Write a python program to check whether a given number is Palindrome or not using a while loop.'"
      ]
     },
     "execution_count": 17,
     "metadata": {},
     "output_type": "execute_result"
    }
   ],
   "source": [
    "\"\"\" Q8. Write a python program to check whether a given number is Palindrome or not using a while loop.\"\"\""
   ]
  },
  {
   "cell_type": "code",
   "execution_count": null,
   "id": "4252f9bd-7d28-44bc-9fd9-4c47592c785c",
   "metadata": {},
   "outputs": [],
   "source": [
    "number = int(input(\"Enter a number: \"))\n",
    "temp = number\n",
    "reverse = 0\n",
    "while temp > 0:\n",
    "    digit = temp % 10\n",
    "    reverse = reverse * 10 + digit\n",
    "    temp //= 10\n",
    "if number == reverse:\n",
    "    print(\"Palindrome\")\n",
    "else:\n",
    "    print(\"Not a palindrome\")\n"
   ]
  },
  {
   "cell_type": "code",
   "execution_count": null,
   "id": "322cb879-10e8-4f54-8aac-649cf9e9d823",
   "metadata": {},
   "outputs": [],
   "source": [
    "\"\"\" Q9. Write a code to print odd numbers from 1 to 100 using list comprehension.\"\"\""
   ]
  },
  {
   "cell_type": "code",
   "execution_count": null,
   "id": "c9f3e697-2926-42da-8501-bf78bbd947c9",
   "metadata": {},
   "outputs": [],
   "source": [
    "Q9. Write a code to print odd numbers from 1 to 100 using list comprehension.\"\"\""
   ]
  },
  {
   "cell_type": "code",
   "execution_count": 1,
   "id": "62a50b5b-d8d0-48bc-b85b-187c145ccedd",
   "metadata": {},
   "outputs": [
    {
     "data": {
      "text/plain": [
       "'Q9. Write a code to print odd numbers from 1 to 100 using list comprehension.'"
      ]
     },
     "execution_count": 1,
     "metadata": {},
     "output_type": "execute_result"
    }
   ],
   "source": [
    "\"\"\"Q9. Write a code to print odd numbers from 1 to 100 using list comprehension.\"\"\""
   ]
  },
  {
   "cell_type": "code",
   "execution_count": 2,
   "id": "1c919852-0c26-4eca-80b0-58d551dc0612",
   "metadata": {},
   "outputs": [
    {
     "name": "stdout",
     "output_type": "stream",
     "text": [
      "[1, 3, 5, 7, 9, 11, 13, 15, 17, 19, 21, 23, 25, 27, 29, 31, 33, 35, 37, 39, 41, 43, 45, 47, 49, 51, 53, 55, 57, 59, 61, 63, 65, 67, 69, 71, 73, 75, 77, 79, 81, 83, 85, 87, 89, 91, 93, 95, 97, 99]\n"
     ]
    }
   ],
   "source": [
    "odd_numbers = [num for num in range(1, 101) if num % 2 != 0]\n",
    "print(odd_numbers)\n"
   ]
  },
  {
   "cell_type": "code",
   "execution_count": 3,
   "id": "cb315474-911b-4c5f-b387-a43f01c92985",
   "metadata": {},
   "outputs": [],
   "source": [
    "### second assiment"
   ]
  },
  {
   "cell_type": "code",
   "execution_count": 4,
   "id": "6a09cf68-74d6-42ec-afe5-942f667a7945",
   "metadata": {},
   "outputs": [
    {
     "data": {
      "text/plain": [
       "\" Q1. Create a python program to sort the given list of tuples based on integer value using a lambda function.\\n[('Sachin Tendulkar', 34357), ('Ricky Ponting', 27483), ('Jack Kallis', 25534), ('Virat Kohli', 24936)\""
      ]
     },
     "execution_count": 4,
     "metadata": {},
     "output_type": "execute_result"
    }
   ],
   "source": [
    "\"\"\" Q1. Create a python program to sort the given list of tuples based on integer value using a lambda function.\n",
    "[('Sachin Tendulkar', 34357), ('Ricky Ponting', 27483), ('Jack Kallis', 25534), ('Virat Kohli', 24936)\"\"\""
   ]
  },
  {
   "cell_type": "code",
   "execution_count": 5,
   "id": "c17496ca-4b1d-4227-a43b-b704a1ff9b5b",
   "metadata": {},
   "outputs": [
    {
     "name": "stdout",
     "output_type": "stream",
     "text": [
      "[('Virat Kohli', 24936), ('Jack Kallis', 25534), ('Ricky Ponting', 27483), ('Sachin Tendulkar', 34357)]\n"
     ]
    }
   ],
   "source": [
    "data = [('Sachin Tendulkar', 34357), ('Ricky Ponting', 27483), ('Jack Kallis', 25534), ('Virat Kohli', 24936)]\n",
    "\n",
    "sorted_data = sorted(data, key=lambda x: x[1])\n",
    "\n",
    "print(sorted_data)\n"
   ]
  },
  {
   "cell_type": "code",
   "execution_count": 6,
   "id": "42233f82-4977-4d3c-9175-d10fd8840725",
   "metadata": {},
   "outputs": [
    {
     "data": {
      "text/plain": [
       "' Q2. Write a Python Program to find the squares of all the numbers in the given list of integers using lambda and map functions.'"
      ]
     },
     "execution_count": 6,
     "metadata": {},
     "output_type": "execute_result"
    }
   ],
   "source": [
    "\"\"\" Q2. Write a Python Program to find the squares of all the numbers in the given list of integers using lambda and map functions.\"\"\""
   ]
  },
  {
   "cell_type": "code",
   "execution_count": 7,
   "id": "b2d966a4-d405-49d9-b330-9ff30dfd496b",
   "metadata": {},
   "outputs": [
    {
     "name": "stdout",
     "output_type": "stream",
     "text": [
      "[4, 16, 9, 16, 36, 64, 49, 81, 144, 961]\n"
     ]
    }
   ],
   "source": [
    "numbers = [2,4,3,4,6,8,7,9,12,31]\n",
    "\n",
    "squared_numbers = list(map(lambda x: x ** 2, numbers))\n",
    "\n",
    "print(squared_numbers)\n"
   ]
  },
  {
   "cell_type": "code",
   "execution_count": 9,
   "id": "2d757f3b-91ce-4f77-bbcd-a89c1a9c046c",
   "metadata": {},
   "outputs": [
    {
     "data": {
      "text/plain": [
       "' Q3. Write a python program to convert the given list of integers into a tuple of strings. Use map and lambda functions\\n\\n\\nGiven String: [1, 2, 3, 4, 5, 6, 7, 8, 9, 10]'"
      ]
     },
     "execution_count": 9,
     "metadata": {},
     "output_type": "execute_result"
    }
   ],
   "source": [
    "\"\"\" Q3. Write a python program to convert the given list of integers into a tuple of strings. Use map and lambda functions\n",
    "\n",
    "\n",
    "Given String: [1, 2, 3, 4, 5, 6, 7, 8, 9, 10]\"\"\""
   ]
  },
  {
   "cell_type": "code",
   "execution_count": 10,
   "id": "64ca6284-07ba-4cb4-9eb4-ef345d593966",
   "metadata": {},
   "outputs": [
    {
     "name": "stdout",
     "output_type": "stream",
     "text": [
      "('1', '2', '3', '4', '5', '6', '7', '8', '9', '10')\n"
     ]
    }
   ],
   "source": [
    "numbers = [1, 2, 3, 4, 5, 6, 7, 8, 9, 10]\n",
    "\n",
    "string_tuple = tuple(map(lambda x: str(x), numbers))\n",
    "\n",
    "print(string_tuple)\n"
   ]
  },
  {
   "cell_type": "code",
   "execution_count": 11,
   "id": "566ef110-cc4f-4bdc-98ff-261e7739c843",
   "metadata": {},
   "outputs": [
    {
     "data": {
      "text/plain": [
       "' Q4. Write a python program using reduce function to compute the product of a list containing numbers from 1 to 25.'"
      ]
     },
     "execution_count": 11,
     "metadata": {},
     "output_type": "execute_result"
    }
   ],
   "source": [
    "\"\"\" Q4. Write a python program using reduce function to compute the product of a list containing numbers from 1 to 25.\"\"\""
   ]
  },
  {
   "cell_type": "code",
   "execution_count": 12,
   "id": "363f79e7-0cf2-4a31-8307-d7d0b281dd6f",
   "metadata": {},
   "outputs": [
    {
     "name": "stdout",
     "output_type": "stream",
     "text": [
      "15511210043330985984000000\n"
     ]
    }
   ],
   "source": [
    "from functools import reduce\n",
    "\n",
    "numbers = list(range(1, 26))\n",
    "\n",
    "product = reduce(lambda x, y: x * y, numbers)\n",
    "\n",
    "print(product)\n"
   ]
  },
  {
   "cell_type": "code",
   "execution_count": 13,
   "id": "62bf2809-079e-46db-9f6f-3c56418d0493",
   "metadata": {},
   "outputs": [
    {
     "data": {
      "text/plain": [
       "' Q5. Write a python program to filter the numbers in a given list that are divisible by 2 and 3 using the filter function'"
      ]
     },
     "execution_count": 13,
     "metadata": {},
     "output_type": "execute_result"
    }
   ],
   "source": [
    "\"\"\" Q5. Write a python program to filter the numbers in a given list that are divisible by 2 and 3 using the filter function\"\"\""
   ]
  },
  {
   "cell_type": "code",
   "execution_count": 14,
   "id": "b9f909b0-8422-41ed-bab8-5b5ce857c8f1",
   "metadata": {},
   "outputs": [
    {
     "name": "stdout",
     "output_type": "stream",
     "text": [
      "[6, 60, 90, 120]\n"
     ]
    }
   ],
   "source": [
    "numbers = [2, 3, 6, 9, 27, 60, 90, 120, 55, 46]\n",
    "\n",
    "filtered_numbers = list(filter(lambda x: x % 2 == 0 and x % 3 == 0, numbers))\n",
    "\n",
    "print(filtered_numbers)\n"
   ]
  },
  {
   "cell_type": "code",
   "execution_count": 15,
   "id": "fcc2a98b-e568-46e8-8d8d-7dafd90fcb62",
   "metadata": {},
   "outputs": [
    {
     "data": {
      "text/plain": [
       "' Q6. Write a python program to find palindromes in the given list of strings using lambda and filter function.'"
      ]
     },
     "execution_count": 15,
     "metadata": {},
     "output_type": "execute_result"
    }
   ],
   "source": [
    "\"\"\" Q6. Write a python program to find palindromes in the given list of strings using lambda and filter function.\"\"\""
   ]
  },
  {
   "cell_type": "code",
   "execution_count": 20,
   "id": "80e34869-a8da-45bc-b2bf-38cc3fc10b4b",
   "metadata": {},
   "outputs": [
    {
     "name": "stdout",
     "output_type": "stream",
     "text": [
      "['php', 'aba', 'radar', 'level', 'abcba', 'utvavtu']\n"
     ]
    }
   ],
   "source": [
    "a  = ['rahul', 'php', 'aba', 'radar', 'level','abcba','utvavtu']\n",
    "\n",
    "palindromes = list(filter(lambda x: x == x[::-1], a))\n",
    "\n",
    "print(palindromes)\n"
   ]
  },
  {
   "cell_type": "code",
   "execution_count": null,
   "id": "37297cba-b9bf-4cb1-a686-bd6cce45a2b7",
   "metadata": {},
   "outputs": [],
   "source": []
  }
 ],
 "metadata": {
  "kernelspec": {
   "display_name": "Python 3 (ipykernel)",
   "language": "python",
   "name": "python3"
  },
  "language_info": {
   "codemirror_mode": {
    "name": "ipython",
    "version": 3
   },
   "file_extension": ".py",
   "mimetype": "text/x-python",
   "name": "python",
   "nbconvert_exporter": "python",
   "pygments_lexer": "ipython3",
   "version": "3.10.8"
  },
  "toc-showcode": true
 },
 "nbformat": 4,
 "nbformat_minor": 5
}
